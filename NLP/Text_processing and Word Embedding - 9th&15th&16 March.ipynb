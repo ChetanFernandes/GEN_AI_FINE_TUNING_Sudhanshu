{
 "cells": [
  {
   "cell_type": "code",
   "execution_count": 36,
   "metadata": {},
   "outputs": [
    {
     "name": "stdout",
     "output_type": "stream",
     "text": [
      "Requirement already satisfied: nltk in g:\\gen ai\\venv\\lib\\site-packages (3.9.1)\n",
      "Requirement already satisfied: click in g:\\gen ai\\venv\\lib\\site-packages (from nltk) (8.1.8)\n",
      "Requirement already satisfied: joblib in g:\\gen ai\\venv\\lib\\site-packages (from nltk) (1.4.2)\n",
      "Requirement already satisfied: regex>=2021.8.3 in g:\\gen ai\\venv\\lib\\site-packages (from nltk) (2024.11.6)\n",
      "Requirement already satisfied: tqdm in g:\\gen ai\\venv\\lib\\site-packages (from nltk) (4.67.1)\n",
      "Requirement already satisfied: colorama in g:\\gen ai\\venv\\lib\\site-packages (from click->nltk) (0.4.6)\n",
      "Note: you may need to restart the kernel to use updated packages.\n"
     ]
    }
   ],
   "source": [
    "pip install nltk"
   ]
  },
  {
   "cell_type": "code",
   "execution_count": 38,
   "metadata": {},
   "outputs": [],
   "source": [
    "import nltk\n",
    "#nltk.download('all')"
   ]
  },
  {
   "cell_type": "markdown",
   "metadata": {},
   "source": [
    "# Punctuation Removal and Whitespace Normalization"
   ]
  },
  {
   "cell_type": "markdown",
   "metadata": {},
   "source": [
    "# Punctional removal using 'string.punctuation' and 'regression'"
   ]
  },
  {
   "cell_type": "code",
   "execution_count": 19,
   "metadata": {},
   "outputs": [
    {
     "name": "stdout",
     "output_type": "stream",
     "text": [
      "  Hello world This is an example  lets clean this text \n",
      " \n",
      "  Hello world This is an example  lets clean this text \n",
      " \n"
     ]
    }
   ],
   "source": [
    "# Using string punctiation\n",
    "import string\n",
    "text = \"  Hello, world! This is an exampl'e - let's clean this text. \\n \"\n",
    "text1 = text.translate(str.maketrans('','',string.punctuation))\n",
    "print(text1)\n",
    "# Using Regression\n",
    "import re\n",
    "text2 = cleaned_text = re.sub(r'[^\\w\\s]','',text)\n",
    "print(text2)"
   ]
  },
  {
   "cell_type": "markdown",
   "metadata": {},
   "source": [
    "# Whitespace removal using  (Using split() and join()) and  (Using Regular Expressions)"
   ]
  },
  {
   "cell_type": "code",
   "execution_count": 23,
   "metadata": {},
   "outputs": [
    {
     "name": "stdout",
     "output_type": "stream",
     "text": [
      "['This', 'text', 'has', 'extra', 'spaces', 'and', 'tabs.']\n",
      "This text has extra spaces and tabs.\n"
     ]
    }
   ],
   "source": [
    "# Using Split() and join()\n",
    "text = \"  This   text has   extra   spaces   and \\t tabs. \\n \"\n",
    "print(text.split())\n",
    "cleaned_text = ' '.join(text.split())  # Splits on whitespace and rejoins with single spaces\n",
    "print(cleaned_text)"
   ]
  },
  {
   "cell_type": "code",
   "execution_count": 24,
   "metadata": {},
   "outputs": [
    {
     "name": "stdout",
     "output_type": "stream",
     "text": [
      "This   text has   extra   spaces   and \t tabs.\n",
      "This text has extra spaces and tabs.\n"
     ]
    }
   ],
   "source": [
    "# Using regular expression\n",
    "import re\n",
    "text = \"  This   text has   extra   spaces   and \\t tabs. \\n \"\n",
    "print(text.strip())\n",
    "cleaned_text = re.sub(r'\\s+', ' ', text.strip())  # Replaces multiple spaces with a single space\n",
    "print(cleaned_text)"
   ]
  },
  {
   "cell_type": "code",
   "execution_count": 25,
   "metadata": {},
   "outputs": [
    {
     "name": "stdout",
     "output_type": "stream",
     "text": [
      "    I am  hated all   over the world    \n",
      "I am hated all over the world\n",
      "    I am   hated all      over the world     \n",
      "I am hated all over the world\n"
     ]
    }
   ],
   "source": [
    "# Combined removal of Punctuation and white paces using \n",
    "# String Punctuation and split() and Join()\n",
    "text = \"    I am ! hated all ,, ! over the world    .\"\n",
    "text1 = text.translate(str.maketrans(\" \",\" \",string.punctuation))\n",
    "print(text1)\n",
    "text1 = (\" \".join(text1.split()))\n",
    "print(text1)\n",
    "\n",
    "# Using reg.\n",
    "text2 = re.sub(r'[^\\w\\s]',\" \",text)\n",
    "print(text2)\n",
    "text2 = re.sub(r'\\s+',' ',text2.strip())\n",
    "print(text2)"
   ]
  },
  {
   "cell_type": "markdown",
   "metadata": {},
   "source": [
    "# Tokeniztion"
   ]
  },
  {
   "cell_type": "markdown",
   "metadata": {},
   "source": [
    "# Word Tokenization\n",
    "Function: word_tokenize()\n",
    "\n",
    "  Description: Splits text into individual words.\n",
    "\n",
    "# Sentence Tokenization\n",
    "Function: sent_tokenize()\n",
    "\n",
    "\n",
    "   Description: Splits text into individual sentences."
   ]
  },
  {
   "cell_type": "code",
   "execution_count": 21,
   "metadata": {},
   "outputs": [
    {
     "name": "stdout",
     "output_type": "stream",
     "text": [
      "Word_tokenize -  ['I', 'am', '!', 'hated', 'all', ',', ',', '!', 'over', 'the', 'world', '.']\n",
      "\n",
      "Sentence_tokenize - ['    I am !', 'hated all ,, !', 'over the world    .']\n"
     ]
    }
   ],
   "source": [
    "from nltk.tokenize import word_tokenize, sent_tokenize\n",
    "text = \"    I am ! hated all ,, ! over the world    .\"\n",
    "print(\"Word_tokenize - \", word_tokenize(text))\n",
    "print()\n",
    "print(\"Sentence_tokenize -\", sent_tokenize(text))\n"
   ]
  },
  {
   "cell_type": "markdown",
   "metadata": {},
   "source": [
    "# Regexp Tokenization.\n",
    "Function: RegexpTokenizer\n",
    "\n",
    "    Description: Splits text based on a regular expression pattern."
   ]
  },
  {
   "cell_type": "code",
   "execution_count": 27,
   "metadata": {},
   "outputs": [
    {
     "name": "stdout",
     "output_type": "stream",
     "text": [
      "['I', 'love_NLP', 'It', 's', 'fun']\n"
     ]
    }
   ],
   "source": [
    "from nltk.tokenize import RegexpTokenizer\n",
    "tokenizer = RegexpTokenizer(r'\\w+')  # Matches only alphanumeric tokens(uppercase, lowercase,digits,underscore(_))\n",
    "text = \"I love_NLP! It's,, fun.\"\n",
    "tokens = tokenizer.tokenize(text)\n",
    "print(tokens)"
   ]
  },
  {
   "cell_type": "markdown",
   "metadata": {},
   "source": [
    "# Whitespace Tokenization\n",
    "Function: WhitespaceTokenizer\n",
    "\n",
    "    Description: Splits text based on whitespace.\n",
    "    \n",
    "# Punctuation-Based Tokenization\n",
    "Function: WordPunctTokenizer\n",
    "\n",
    "    Description: Splits text into words and treats punctuation as separate tokens."
   ]
  },
  {
   "cell_type": "code",
   "execution_count": 28,
   "metadata": {},
   "outputs": [
    {
     "name": "stdout",
     "output_type": "stream",
     "text": [
      "WhitespaceTokenizer -  ['I', 'love', 'NLP..', 'It,', ',', 'is', 'fun', '!']\n",
      "WordNetLemmatizer- ['I', 'love', 'NLP', '..', 'It', ',', ',', 'is', 'fun', '!']\n"
     ]
    }
   ],
   "source": [
    "from nltk.tokenize import WhitespaceTokenizer, WordPunctTokenizer\n",
    "tokenizer = WhitespaceTokenizer()\n",
    "text = \"I love NLP.. It, , is fun   !\"\n",
    "tokens1 = tokenizer.tokenize(text)\n",
    "print(\"WhitespaceTokenizer - \", tokens1)\n",
    "\n",
    "tokenizer1 = WordPunctTokenizer()\n",
    "tokens2 = tokenizer1.tokenize(text)\n",
    "print(\"WordNetLemmatizer-\", tokens2)\n"
   ]
  },
  {
   "cell_type": "code",
   "execution_count": 29,
   "metadata": {},
   "outputs": [
    {
     "name": "stdout",
     "output_type": "stream",
     "text": [
      "*** Introductory Examples for the NLTK Book ***\n",
      "Loading text1, ..., text9 and sent1, ..., sent9\n",
      "Type the name of the text or sentence to view it.\n",
      "Type: 'texts()' or 'sents()' to list the materials.\n",
      "text1: Moby Dick by Herman Melville 1851\n",
      "text2: Sense and Sensibility by Jane Austen 1811\n",
      "text3: The Book of Genesis\n",
      "text4: Inaugural Address Corpus\n",
      "text5: Chat Corpus\n",
      "text6: Monty Python and the Holy Grail\n",
      "text7: Wall Street Journal\n",
      "text8: Personals Corpus\n",
      "text9: The Man Who Was Thursday by G . K . Chesterton 1908\n"
     ]
    }
   ],
   "source": [
    "from nltk.book import *"
   ]
  },
  {
   "cell_type": "code",
   "execution_count": 30,
   "metadata": {},
   "outputs": [
    {
     "name": "stdout",
     "output_type": "stream",
     "text": [
      "text1: Moby Dick by Herman Melville 1851\n",
      "text2: Sense and Sensibility by Jane Austen 1811\n",
      "text3: The Book of Genesis\n",
      "text4: Inaugural Address Corpus\n",
      "text5: Chat Corpus\n",
      "text6: Monty Python and the Holy Grail\n",
      "text7: Wall Street Journal\n",
      "text8: Personals Corpus\n",
      "text9: The Man Who Was Thursday by G . K . Chesterton 1908\n"
     ]
    }
   ],
   "source": [
    "texts()"
   ]
  },
  {
   "cell_type": "markdown",
   "metadata": {},
   "source": [
    "# Stopwords"
   ]
  },
  {
   "cell_type": "code",
   "execution_count": 39,
   "metadata": {},
   "outputs": [
    {
     "name": "stderr",
     "output_type": "stream",
     "text": [
      "[nltk_data] Downloading package stopwords to\n",
      "[nltk_data]     C:\\Users\\Lenovo\\AppData\\Roaming\\nltk_data...\n",
      "[nltk_data]   Package stopwords is already up-to-date!\n",
      "[nltk_data] Downloading package punkt to\n",
      "[nltk_data]     C:\\Users\\Lenovo\\AppData\\Roaming\\nltk_data...\n"
     ]
    },
    {
     "name": "stdout",
     "output_type": "stream",
     "text": [
      "['example', 'sentence', 'demonstrating', 'removal', 'stop', 'words', '.']\n"
     ]
    },
    {
     "name": "stderr",
     "output_type": "stream",
     "text": [
      "[nltk_data]   Package punkt is already up-to-date!\n"
     ]
    }
   ],
   "source": [
    "from nltk.corpus import stopwords\n",
    "from nltk.tokenize import word_tokenize\n",
    "\n",
    "# Download stopwords and punkt tokenizer (if not already downloaded)\n",
    "nltk.download('stopwords')\n",
    "nltk.download('punkt')\n",
    "\n",
    "# Sample text\n",
    "text = \"This is an example sentence demonstrating the removal of stop words.\"\n",
    "\n",
    "# Tokenize the text\n",
    "words = word_tokenize(text)\n",
    "\n",
    "# Get English stop words\n",
    "stop_words = set(stopwords.words('english'))\n",
    "\n",
    "# Remove stop words\n",
    "filtered_words = [word for word in words if word.lower() not in stop_words]\n",
    "\n",
    "print(filtered_words)"
   ]
  },
  {
   "cell_type": "markdown",
   "metadata": {},
   "source": [
    "# Stemmer"
   ]
  },
  {
   "cell_type": "code",
   "execution_count": 32,
   "metadata": {},
   "outputs": [
    {
     "name": "stdout",
     "output_type": "stream",
     "text": [
      "thi\n",
      "is\n",
      "an\n",
      "exampl\n",
      "sentenc\n",
      "demonstr\n",
      "the\n",
      "remov\n",
      "of\n",
      "stop\n",
      "word\n",
      "\n",
      "thi\n",
      "is\n",
      "an\n",
      "exampl\n",
      "sent\n",
      "demonst\n",
      "the\n",
      "remov\n",
      "of\n",
      "stop\n",
      "word\n",
      "\n",
      "this\n",
      "is\n",
      "an\n",
      "exampl\n",
      "sentenc\n",
      "demonstr\n",
      "the\n",
      "remov\n",
      "of\n",
      "stop\n",
      "word\n"
     ]
    }
   ],
   "source": [
    "from nltk.stem import PorterStemmer, LancasterStemmer, SnowballStemmer\n",
    "text = \"This is an example sentence demonstrating the removal of stop words\"\n",
    "stemering  = PorterStemmer()\n",
    "for i in word_tokenize(text):\n",
    "    print(stemering.stem(i))\n",
    "print()\n",
    "stemering1  = LancasterStemmer()\n",
    "for i in word_tokenize(text):\n",
    "    print(stemering1.stem(i))\n",
    "print()\n",
    "stemering2  = SnowballStemmer('english')\n",
    "for i in word_tokenize(text):\n",
    "    print(stemering2.stem(i))\n",
    "\n",
    "\n"
   ]
  },
  {
   "cell_type": "markdown",
   "metadata": {},
   "source": [
    "# Lemmatizer"
   ]
  },
  {
   "cell_type": "code",
   "execution_count": 33,
   "metadata": {},
   "outputs": [
    {
     "name": "stdout",
     "output_type": "stream",
     "text": [
      "This\n",
      "be\n",
      "an\n",
      "example\n",
      "sentence\n",
      "demonstrate\n",
      "the\n",
      "removal\n",
      "of\n",
      "stop\n",
      "word\n"
     ]
    }
   ],
   "source": [
    "from nltk.stem import WordNetLemmatizer\n",
    "text = \"This is an example sentence demonstrating the removal of stop words\"\n",
    "lemmatizer   = WordNetLemmatizer()\n",
    "for i in word_tokenize(text):\n",
    "    print(lemmatizer.lemmatize(i,pos='v'))\n"
   ]
  },
  {
   "cell_type": "markdown",
   "metadata": {},
   "source": [
    "# Pos_tag"
   ]
  },
  {
   "cell_type": "code",
   "execution_count": 34,
   "metadata": {},
   "outputs": [
    {
     "data": {
      "text/plain": [
       "[('apple', 'NN'), ('sudhanshu', 'NN'), ('running', 'VBG'), ('!', '.')]"
      ]
     },
     "execution_count": 34,
     "metadata": {},
     "output_type": "execute_result"
    }
   ],
   "source": [
    "from nltk.tag import pos_tag\n",
    "pos_tag([\"apple\" ,\"sudhanshu\" , \"running\" , \"!\"])"
   ]
  },
  {
   "cell_type": "markdown",
   "metadata": {},
   "source": [
    "# Embedding techiniques - 15th March"
   ]
  },
  {
   "cell_type": "markdown",
   "metadata": {},
   "source": [
    "# One Hot Encoding"
   ]
  },
  {
   "cell_type": "code",
   "execution_count": 35,
   "metadata": {},
   "outputs": [
    {
     "data": {
      "text/plain": [
       "{'working': 0,\n",
       " 'am': 1,\n",
       " 'love': 2,\n",
       " 'Nlp': 3,\n",
       " 'GEN': 4,\n",
       " 'with': 5,\n",
       " 'euron': 6,\n",
       " 'AI': 7,\n",
       " 'I': 8,\n",
       " 'teach': 9}"
      ]
     },
     "execution_count": 35,
     "metadata": {},
     "output_type": "execute_result"
    }
   ],
   "source": [
    "\n",
    "corpus = [\" I love Nlp Nlp\", \" I teach GEN AI\", \"I am working with euron\"]\n",
    "unique_words = list(set(\" \".join(corpus).split()))\n",
    "word_to_index = {word: i for i, word in enumerate(unique_words)}\n",
    "word_to_index\n"
   ]
  },
  {
   "cell_type": "code",
   "execution_count": 36,
   "metadata": {},
   "outputs": [
    {
     "name": "stdout",
     "output_type": "stream",
     "text": [
      " I love Nlp Nlp\n",
      " I teach GEN AI\n",
      "I am working with euron\n",
      "[[0, 0, 0, 0, 0, 0, 0, 0, 1, 0], [0, 0, 1, 0, 0, 0, 0, 0, 0, 0], [0, 0, 0, 1, 0, 0, 0, 0, 0, 0], [0, 0, 0, 1, 0, 0, 0, 0, 0, 0]]\n",
      "[[0, 0, 0, 0, 0, 0, 0, 0, 1, 0], [0, 0, 0, 0, 0, 0, 0, 0, 0, 1], [0, 0, 0, 0, 1, 0, 0, 0, 0, 0], [0, 0, 0, 0, 0, 0, 0, 1, 0, 0]]\n",
      "[[0, 0, 0, 0, 0, 0, 0, 0, 1, 0], [0, 1, 0, 0, 0, 0, 0, 0, 0, 0], [1, 0, 0, 0, 0, 0, 0, 0, 0, 0], [0, 0, 0, 0, 0, 1, 0, 0, 0, 0], [0, 0, 0, 0, 0, 0, 1, 0, 0, 0]]\n"
     ]
    }
   ],
   "source": [
    "one_hot_vectors = []\n",
    "for sentence in corpus:\n",
    "    print(sentence)\n",
    "    sentence_vector = []\n",
    "    for word in sentence.split():\n",
    "        #print(word)\n",
    "        vector = [0] * len(unique_words)\n",
    "        #print(vector)\n",
    "        vector[word_to_index[word]] = 1\n",
    "        sentence_vector.append(vector)\n",
    "    one_hot_vectors.append(sentence_vector)\n",
    "for i,s in enumerate(one_hot_vectors):\n",
    "    print(one_hot_vectors[i])"
   ]
  },
  {
   "cell_type": "code",
   "execution_count": 37,
   "metadata": {},
   "outputs": [],
   "source": [
    "# Issue\n",
    "# Not able to build a relationship of data(Not able to understand the context of data)"
   ]
  },
  {
   "cell_type": "markdown",
   "metadata": {},
   "source": [
    "# Bag of Word (BOW) - Frequecny based edncodin technique"
   ]
  },
  {
   "cell_type": "markdown",
   "metadata": {},
   "source": []
  },
  {
   "cell_type": "code",
   "execution_count": 172,
   "metadata": {},
   "outputs": [
    {
     "name": "stdout",
     "output_type": "stream",
     "text": [
      "[[0 0 2 0 0 0 0 0 0 0]\n",
      " [0 0 0 0 0 0 0 0 0 1]\n",
      " [1 1 0 0 0 1 1 0 0 0]]\n"
     ]
    },
    {
     "name": "stderr",
     "output_type": "stream",
     "text": [
      "g:\\GEN AI\\venv\\Lib\\site-packages\\sklearn\\feature_extraction\\text.py:1368: UserWarning: Upper case characters found in vocabulary while 'lowercase' is True. These entries will not be matched with any documents\n",
      "  warnings.warn(\n"
     ]
    }
   ],
   "source": [
    "from sklearn.feature_extraction.text import CountVectorizer\n",
    "vectorizer = CountVectorizer(lowercase=True, token_pattern= r\"(?u)\\b\\w+\\b\" , vocabulary=unique_words) #Includes I \n",
    "# token_pattern=r\"(?u)\\b\\w\\w+\\b\" Excludes I\n",
    "# This pattern matches:\n",
    "# Words with 2 or more characters (\\w\\w+).\n",
    "# Words with 1 character (like \"I\") are excluded.\n",
    "corpus = [\"i love LOVE Nlp Nlp AI\", \"I teach GEN AI AI\", \"I am working with euron\"]\n",
    "x = vectorizer.fit_transform(corpus)\n",
    "print(x.toarray()) # Here \"love NLP\"  is same as \"NLP Love\"\n",
    "# In below output 2 represnets the frequency of occurence of given words\n"
   ]
  },
  {
   "cell_type": "code",
   "execution_count": null,
   "metadata": {},
   "outputs": [
    {
     "data": {
      "text/plain": [
       "array(['I', 'love', 'with', 'euron', 'am', 'Nlp', 'teach', 'AI',\n",
       "       'working', 'GEN'], dtype=object)"
      ]
     },
     "execution_count": 182,
     "metadata": {},
     "output_type": "execute_result"
    }
   ],
   "source": [
    "vectorizer.get_feature_names_out()"
   ]
  },
  {
   "cell_type": "markdown",
   "metadata": {},
   "source": [
    "# TF-IDF(Term frequency - Inverse document frequency)\n",
    "# TF = Number of times word appeared in one document / Total number of word in document\n",
    "# IDF = log(Total number of document/ No of document containing particular word)"
   ]
  },
  {
   "cell_type": "code",
   "execution_count": null,
   "metadata": {},
   "outputs": [],
   "source": [
    "# [\" My name is Sudh\", \" I teach AI\"]\n",
    "# Document(One sentence) = 2 \n",
    "# Calculate TF and IDF of word 'My\"\n",
    "# TF(\"MY\") = 1/4 = 0.25\n",
    "# IDF(\"MY\") = log(2/1) = log(2/1)"
   ]
  },
  {
   "cell_type": "code",
   "execution_count": null,
   "metadata": {},
   "outputs": [
    {
     "name": "stdout",
     "output_type": "stream",
     "text": [
      "[[0.25966344 0.         0.         0.         0.68285244 0.68285244\n",
      "  0.         0.         0.        ]\n",
      " [0.73235914 0.         0.         0.48148213 0.         0.\n",
      "  0.48148213 0.         0.        ]\n",
      " [0.         0.5        0.5        0.         0.         0.\n",
      "  0.         0.5        0.5       ]]\n",
      "['ai' 'am' 'euron' 'gen' 'love' 'nlp' 'teach' 'with' 'working']\n",
      "['i love LOVE Nlp Nlp AI', 'I teach GEN AI AI', 'I am working with euron']\n"
     ]
    }
   ],
   "source": [
    "from sklearn.feature_extraction.text import TfidfVectorizer\n",
    "vectorizer_tf_idf = TfidfVectorizer(lowercase=True )\n",
    "x = vectorizer_tf_idf.fit_transform(corpus)\n",
    "print(x.toarray())\n",
    "print(vectorizer_tf_idf.get_feature_names_out())\n",
    "print(corpus)"
   ]
  },
  {
   "cell_type": "code",
   "execution_count": null,
   "metadata": {},
   "outputs": [
    {
     "name": "stdout",
     "output_type": "stream",
     "text": [
      "0.21972245773362198\n"
     ]
    }
   ],
   "source": [
    "# Numerical calculation\n",
    "import math\n",
    "import numpy as np\n",
    "TF = 1/5\n",
    "IDF = np.log(3/1)\n",
    "Total = TF * IDF\n",
    "print(Total)"
   ]
  },
  {
   "cell_type": "code",
   "execution_count": null,
   "metadata": {},
   "outputs": [],
   "source": [
    "# Here if the word is occuring in multiple document its weightage will reduce and \n",
    "# if word is appearing only in document its weightage will be high\n",
    "# Disadvantage:-\n",
    "# Not able to capture the contect or order of word\n",
    "# It will reduce the sparse data as compared to other above encoding technique\n",
    "# Computational expensibe - as it has to compute for all the words"
   ]
  },
  {
   "cell_type": "code",
   "execution_count": null,
   "metadata": {},
   "outputs": [
    {
     "name": "stdout",
     "output_type": "stream",
     "text": [
      "['ai' 'am' 'euron' 'gen' 'love' 'nlp' 'teach' 'with' 'working']\n",
      "5\n",
      "TF-IDF scores for 'teach': [[0.68285244]\n",
      " [0.        ]\n",
      " [0.        ]]\n"
     ]
    }
   ],
   "source": [
    "# How to value of each feature\n",
    "# Get the feature names (terms)\n",
    "feature_names = vectorizer_tf_idf.get_feature_names_out()\n",
    "print(feature_names)\n",
    "\n",
    "# Find the index of the term \"teach\"\n",
    "teach_index = list(feature_names).index(\"nlp\")\n",
    "print(teach_index)\n",
    "\n",
    "# Extract the TF-IDF score for \"teach\" in each document\n",
    "tfidf_scores = x[:, teach_index].toarray()\n",
    "\n",
    "print(\"TF-IDF scores for 'teach':\", tfidf_scores)"
   ]
  },
  {
   "cell_type": "markdown",
   "metadata": {},
   "source": [
    "# Word 2 Vec - 16th March\n",
    "# It is a neural network. Google developed it in 2013\n",
    "# It has 1 hidden layer"
   ]
  },
  {
   "cell_type": "markdown",
   "metadata": {},
   "source": [
    "# CBOW ( continous bag of word) : It will predict next word (teaching ---). This is faster\n",
    "# Skip - Gram :  Generate souuronding word(----teaching-----). Bit slower.."
   ]
  },
  {
   "cell_type": "code",
   "execution_count": null,
   "metadata": {},
   "outputs": [
    {
     "name": "stdout",
     "output_type": "stream",
     "text": [
      "Collecting matplotlib\n",
      "  Downloading matplotlib-3.10.1-cp311-cp311-win_amd64.whl.metadata (11 kB)\n",
      "Collecting contourpy>=1.0.1 (from matplotlib)\n",
      "  Using cached contourpy-1.3.1-cp311-cp311-win_amd64.whl.metadata (5.4 kB)\n",
      "Collecting cycler>=0.10 (from matplotlib)\n",
      "  Using cached cycler-0.12.1-py3-none-any.whl.metadata (3.8 kB)\n",
      "Collecting fonttools>=4.22.0 (from matplotlib)\n",
      "  Downloading fonttools-4.56.0-cp311-cp311-win_amd64.whl.metadata (103 kB)\n",
      "Collecting kiwisolver>=1.3.1 (from matplotlib)\n",
      "  Downloading kiwisolver-1.4.8-cp311-cp311-win_amd64.whl.metadata (6.3 kB)\n",
      "Requirement already satisfied: numpy>=1.23 in g:\\gen ai\\venv\\lib\\site-packages (from matplotlib) (1.26.4)\n",
      "Requirement already satisfied: packaging>=20.0 in g:\\gen ai\\venv\\lib\\site-packages (from matplotlib) (24.2)\n",
      "Collecting pillow>=8 (from matplotlib)\n",
      "  Downloading pillow-11.1.0-cp311-cp311-win_amd64.whl.metadata (9.3 kB)\n",
      "Collecting pyparsing>=2.3.1 (from matplotlib)\n",
      "  Using cached pyparsing-3.2.1-py3-none-any.whl.metadata (5.0 kB)\n",
      "Requirement already satisfied: python-dateutil>=2.7 in g:\\gen ai\\venv\\lib\\site-packages (from matplotlib) (2.9.0.post0)\n",
      "Requirement already satisfied: six>=1.5 in g:\\gen ai\\venv\\lib\\site-packages (from python-dateutil>=2.7->matplotlib) (1.17.0)\n",
      "Downloading matplotlib-3.10.1-cp311-cp311-win_amd64.whl (8.1 MB)\n",
      "   ---------------------------------------- 0.0/8.1 MB ? eta -:--:--\n",
      "   ----------- ---------------------------- 2.4/8.1 MB 11.2 MB/s eta 0:00:01\n",
      "   ------------------------ --------------- 5.0/8.1 MB 11.6 MB/s eta 0:00:01\n",
      "   ---------------------------- ----------- 5.8/8.1 MB 9.3 MB/s eta 0:00:01\n",
      "   ------------------------------- -------- 6.3/8.1 MB 7.4 MB/s eta 0:00:01\n",
      "   ----------------------------------- ---- 7.1/8.1 MB 6.5 MB/s eta 0:00:01\n",
      "   ---------------------------------------  7.9/8.1 MB 6.2 MB/s eta 0:00:01\n",
      "   ---------------------------------------- 8.1/8.1 MB 5.8 MB/s eta 0:00:00\n",
      "Using cached contourpy-1.3.1-cp311-cp311-win_amd64.whl (219 kB)\n",
      "Using cached cycler-0.12.1-py3-none-any.whl (8.3 kB)\n",
      "Downloading fonttools-4.56.0-cp311-cp311-win_amd64.whl (2.2 MB)\n",
      "   ---------------------------------------- 0.0/2.2 MB ? eta -:--:--\n",
      "   -------------- ------------------------- 0.8/2.2 MB 5.6 MB/s eta 0:00:01\n",
      "   ---------------------------------------- 2.2/2.2 MB 5.7 MB/s eta 0:00:00\n",
      "Downloading kiwisolver-1.4.8-cp311-cp311-win_amd64.whl (71 kB)\n",
      "Downloading pillow-11.1.0-cp311-cp311-win_amd64.whl (2.6 MB)\n",
      "   ---------------------------------------- 0.0/2.6 MB ? eta -:--:--\n",
      "   ----------------------- ---------------- 1.6/2.6 MB 8.4 MB/s eta 0:00:01\n",
      "   ---------------------------------------- 2.6/2.6 MB 8.0 MB/s eta 0:00:00\n",
      "Using cached pyparsing-3.2.1-py3-none-any.whl (107 kB)\n",
      "Installing collected packages: pyparsing, pillow, kiwisolver, fonttools, cycler, contourpy, matplotlib\n",
      "Successfully installed contourpy-1.3.1 cycler-0.12.1 fonttools-4.56.0 kiwisolver-1.4.8 matplotlib-3.10.1 pillow-11.1.0 pyparsing-3.2.1\n",
      "Note: you may need to restart the kernel to use updated packages.\n"
     ]
    }
   ],
   "source": [
    "pip install matplotlib"
   ]
  },
  {
   "cell_type": "code",
   "execution_count": null,
   "metadata": {},
   "outputs": [],
   "source": [
    "import nltk\n",
    "import string \n",
    "import gensim\n",
    "import matplotlib.pyplot as plt\n",
    "from gensim.models import Word2Vec\n",
    "from nltk.tokenize import word_tokenize\n",
    "import numpy as np\n",
    "import re"
   ]
  },
  {
   "cell_type": "code",
   "execution_count": null,
   "metadata": {},
   "outputs": [
    {
     "name": "stderr",
     "output_type": "stream",
     "text": [
      "[nltk_data] Downloading package punkt to\n",
      "[nltk_data]     C:\\Users\\Lenovo\\AppData\\Roaming\\nltk_data...\n",
      "[nltk_data]   Package punkt is already up-to-date!\n",
      "[nltk_data] Downloading package stopwords to\n",
      "[nltk_data]     C:\\Users\\Lenovo\\AppData\\Roaming\\nltk_data...\n",
      "[nltk_data]   Package stopwords is already up-to-date!\n"
     ]
    },
    {
     "data": {
      "text/plain": [
       "True"
      ]
     },
     "execution_count": 6,
     "metadata": {},
     "output_type": "execute_result"
    }
   ],
   "source": [
    "nltk.download('punkt')\n",
    "nltk.download('stopwords')"
   ]
  },
  {
   "cell_type": "code",
   "execution_count": 15,
   "metadata": {},
   "outputs": [],
   "source": [
    "\n",
    "corpus =  [\"my name is Sudhanshu kumar .\", \"i use to teach all the data stack along with ops and cloud !\", \"fsfs sdfsfss f fsdf sdf sd2332 343543 34 #$#%#^ 543 ,\", \"nlp is very veyr amazing\", \"we are trying to learn word2vc,\", \"we will try to build two models for word 2 vec cbow and skipgram\", \"we will also work on cleanning the data whihc is basically a part of data preprocessing, \", \"natural language processing is a part of AI ,\", \"my phone number is 234 w342 324324\", \"word 2 vec is being used for word embeddings \", \"it is going to perform better then one hot , bow or TF-IDF\"]"
   ]
  },
  {
   "cell_type": "code",
   "execution_count": 43,
   "metadata": {},
   "outputs": [],
   "source": [
    "from nltk.corpus import stopwords"
   ]
  },
  {
   "cell_type": "markdown",
   "metadata": {},
   "source": [
    "# Using simple_preprocess"
   ]
  },
  {
   "cell_type": "code",
   "execution_count": 47,
   "metadata": {},
   "outputs": [
    {
     "name": "stdout",
     "output_type": "stream",
     "text": [
      "0: ['my', 'name', 'is', 'sudhanshu', 'kumar']\n",
      "1: ['use', 'to', 'teach', 'all', 'the', 'data', 'stack', 'along', 'with', 'ops', 'and', 'cloud']\n",
      "2: ['fsfs', 'sdfsfss', 'fsdf', 'sdf', 'sd']\n",
      "3: ['nlp', 'is', 'very', 'veyr', 'amazing']\n",
      "4: ['we', 'are', 'trying', 'to', 'learn', 'word', 'vc']\n",
      "5: ['we', 'will', 'try', 'to', 'build', 'two', 'models', 'for', 'word', 'vec', 'cbow', 'and', 'skipgram']\n",
      "6: ['we', 'will', 'also', 'work', 'on', 'cleanning', 'the', 'data', 'whihc', 'is', 'basically', 'part', 'of', 'data', 'preprocessing']\n",
      "7: ['natural', 'language', 'processing', 'is', 'part', 'of', 'ai']\n",
      "8: ['my', 'phone', 'number', 'is']\n",
      "9: ['word', 'vec', 'is', 'being', 'used', 'for', 'word', 'embeddings']\n",
      "10: ['it', 'is', 'going', 'to', 'perform', 'better', 'then', 'one', 'hot', 'bow', 'or', 'tf', 'idf']\n"
     ]
    }
   ],
   "source": [
    "from gensim.utils import simple_preprocess\n",
    "PRE_PROCESSED = [simple_preprocess(sentence, min_len=2) for sentence in corpus]\n",
    "for i, sentence in enumerate(PRE_PROCESSED):\n",
    "    print(f\"{i}: {sentence}\")"
   ]
  },
  {
   "cell_type": "code",
   "execution_count": 45,
   "metadata": {},
   "outputs": [
    {
     "name": "stdout",
     "output_type": "stream",
     "text": [
      "['my', 'name', 'is', 'sudhanshu', 'kumar']\n",
      "['i', 'use', 'to', 'teach', 'all', 'the', 'data', 'stack', 'along', 'with', 'ops', 'and', 'cloud']\n",
      "['fsfs', 'sdfsfss', 'f', 'fsdf', 'sdf', 'sd']\n",
      "['nlp', 'is', 'very', 'veyr', 'amazing']\n",
      "['we', 'are', 'trying', 'to', 'learn', 'wordvc']\n",
      "['we', 'will', 'try', 'to', 'build', 'two', 'models', 'for', 'word', 'vec', 'cbow', 'and', 'skipgram']\n",
      "['we', 'will', 'also', 'work', 'on', 'cleanning', 'the', 'data', 'whihc', 'is', 'basically', 'a', 'part', 'of', 'data', 'preprocessing']\n",
      "['natural', 'language', 'processing', 'is', 'a', 'part', 'of', 'ai']\n",
      "['my', 'phone', 'number', 'is', 'w']\n",
      "['word', 'vec', 'is', 'being', 'used', 'for', 'word', 'embeddings']\n",
      "['it', 'is', 'going', 'to', 'perform', 'better', 'then', 'one', 'hot', 'bow', 'or', 'tfidf']\n",
      "[['name', 'sudhanshu', 'kumar'], ['use', 'teach', 'data', 'stack', 'along', 'ops', 'cloud'], ['fsfs', 'sdfsfss', 'f', 'fsdf', 'sdf', 'sd'], ['nlp', 'veyr', 'amazing'], ['trying', 'learn', 'wordvc'], ['try', 'build', 'two', 'models', 'word', 'vec', 'cbow', 'skipgram'], ['also', 'work', 'cleanning', 'data', 'whihc', 'basically', 'part', 'data', 'preprocessing'], ['natural', 'language', 'processing', 'part', 'ai'], ['phone', 'number', 'w'], ['word', 'vec', 'used', 'word', 'embeddings'], ['going', 'perform', 'better', 'one', 'hot', 'bow', 'tfidf']]\n"
     ]
    }
   ],
   "source": [
    "\n",
    "def word_preprocessing(text):\n",
    "    text = text.lower()\n",
    "    text = re.sub(r'\\d+',\"\",text)\n",
    "    text = text.translate(str.maketrans('','',string.punctuation))\n",
    "    word = word_tokenize(text)\n",
    "    print(word)\n",
    "    word = [i for i in word if i not in stopwords.words('english')]\n",
    "    return word\n",
    "processed_corpus = [word_preprocessing(sentence) for sentence in corpus]\n",
    "print((processed_corpus))\n"
   ]
  },
  {
   "cell_type": "markdown",
   "metadata": {},
   "source": [
    "# 1. sentences\n",
    "# 2. Vector_size\n",
    "# 3. window. Default = 5 (int)\n",
    "     # Purpose: Defines the maximum distance between the current word and the predicted word within a sentence. For # # # example, window=5 means the model considers up to 5 words to the left and 5 words to the right of the current word\n",
    "     # A larger window captures more context but may include irrelevant words.\n",
    "     # A smaller window focuses on local context, which is useful for syntactic relationships.\n",
    "     # The choice of window size depends on the nature of the text (e.g., shorter windows for syntactic tasks, \n",
    "       longer windows for semantic tasks).\n",
    "# 4. min_count. Integer. Default: 5\n",
    "    # Purpose: Ignores words with a total frequency lower than this value. For example, min_count=1 means all words   (even those appearing only once) are included in the model.\n",
    "    # Why it's used:\n",
    "    # Rare words are often noisy and may not provide meaningful embeddings.\n",
    "    # Setting a higher min_count reduces the vocabulary size, making the model more efficient and focused on meaningful  words.Use min_count=1 if you want to include all words, even rare ones.\n",
    "# 5. sg. Type: Integer (0 or 1).\n",
    "    # Default: 0 (CBOW)\n",
    "    # Purpose: Specifies the training algorithm:\n",
    "       # sg=0: Use Continuous Bag of Words (CBOW).\n",
    "       # sg=1: Use Skip-Gram.\n",
    "\n",
    "# 6. workers. Type: Integer. Default: 3\n",
    "     #  Purpose: Number of worker threads to use for training.\n",
    "     # Why it's used: Speeds up training by parallelizing the process. Set this to the number of CPU cores available.\n",
    "\n",
    "# 7. epochs. Type: Integer. Default: 5\n",
    "     # Purpose: Number of iterations (epochs) over the corpus.\n",
    "     # Why it's used: More epochs can improve the quality of embeddings but increase training time.\n",
    "\n",
    "# 8. alpha. Type: Float. Default: 0.025\n",
    "    # Purpose: Initial learning rate.\n",
    "    # Why it's used: Controls how quickly the model learns. The learning rate decreases during training.\n",
    "\n",
    "# 9. negative. Type: Integer. Default: 5\n",
    "    # Purpose: Number of negative samples to use for negative sampling (used only if hs=0).\n",
    "    # Why it's used: Improves the quality of embeddings by training on both positive and negative examples.\n",
    "\n",
    "# 10. hs. Type: Integer (0 or 1). Default: 0\n",
    "    # Purpose: If 1, use hierarchical softmax; if 0, use negative sampling.\n",
    "    # Why it's used: Hierarchical softmax is more efficient for large vocabularies, while negative sampling is faster and works well for smaller vocabularies."
   ]
  },
  {
   "cell_type": "code",
   "execution_count": null,
   "metadata": {},
   "outputs": [
    {
     "name": "stdout",
     "output_type": "stream",
     "text": [
      "Word2Vec<vocab=53, vector_size=100, alpha=0.025> Word2Vec<vocab=53, vector_size=100, alpha=0.025>\n"
     ]
    }
   ],
   "source": [
    "cbow = Word2Vec(sentences = processed_corpus, vector_size = 100, window = 5, min_count = 1 , sg = 0, hs = 0)\n",
    "skip_gram = Word2Vec(sentences = processed_corpus, vector_size = 100, window = 5, min_count =1 , sg = 1, hs = 0)\n",
    "print(cbow,skip_gram)\n",
    "# if window size is larger understand more semantic, smaller will learn more sentatic\n"
   ]
  },
  {
   "cell_type": "code",
   "execution_count": 69,
   "metadata": {},
   "outputs": [
    {
     "data": {
      "text/plain": [
       "[('stack', 0.21655213832855225),\n",
       " ('wordvc', 0.16264015436172485),\n",
       " ('cbow', 0.16262851655483246),\n",
       " ('sdf', 0.14958921074867249),\n",
       " ('w', 0.13599100708961487),\n",
       " ('ops', 0.12766699492931366),\n",
       " ('build', 0.11882960051298141),\n",
       " ('bow', 0.1021522581577301),\n",
       " ('cleanning', 0.0803249180316925),\n",
       " ('teach', 0.07537198811769485)]"
      ]
     },
     "execution_count": 69,
     "metadata": {},
     "output_type": "execute_result"
    }
   ],
   "source": [
    "#print(\"Vector for 'sample':\", cbow.wv[\"sudhanshu\"])\n",
    "#print(\"Vector for 'nlp':\", skip_gram.wv[\"sudhanshu\"])\n",
    "\n",
    "# Find similar words\n",
    "cbow.wv.most_similar(\"sudhanshu\")"
   ]
  },
  {
   "cell_type": "code",
   "execution_count": 70,
   "metadata": {},
   "outputs": [
    {
     "data": {
      "text/plain": [
       "[('stack', 0.21655213832855225),\n",
       " ('wordvc', 0.16264015436172485),\n",
       " ('cbow', 0.16262851655483246),\n",
       " ('sdf', 0.14950641989707947),\n",
       " ('w', 0.13599100708961487),\n",
       " ('ops', 0.12766699492931366),\n",
       " ('build', 0.11878779530525208),\n",
       " ('bow', 0.10209425538778305),\n",
       " ('cleanning', 0.08034871518611908),\n",
       " ('teach', 0.07537198811769485)]"
      ]
     },
     "execution_count": 70,
     "metadata": {},
     "output_type": "execute_result"
    }
   ],
   "source": [
    "skip_gram.wv.most_similar('sudhanshu')"
   ]
  },
  {
   "cell_type": "markdown",
   "metadata": {},
   "source": [
    "\n",
    "# Cosine similarity\n",
    "\n",
    "\n",
    "# The cbow.wv.similarity(\"nlp\", \"ai\") function computes the cosine similarity between the word embeddings of \"nlp\" and \"ai\" in a trained Word2Vec model using the CBOW (Continuous Bag of Words) architecture. Cosine similarity measures how similar two vectors are, regardless of their magnitude, and ranges from -1 to 1:\n",
    "\n",
    "    # 1: The vectors are identical.\n",
    "\n",
    "    # 0: The vectors are orthogonal (no similarity).\n",
    "\n",
    "    # -1: The vectors are diametrically opposed.\n",
    "\n",
    "#  What is Cosine Similarity?\n",
    "\n",
    "Cosine similarity measures the cosine of the angle between two vectors in a multi-dimensional space. It is calculated as:\n",
    "cosine similarity=A⋅B  /   ∥A∥  ∥B∥\n",
    "\n",
    "Where:\n",
    "\n",
    "    A⋅BA⋅B is the dot product of vectors AA and BB.\n",
    "\n",
    "    ∥A∥∥A∥ and ∥B∥∥B∥ are the magnitudes (Euclidean norms) of vectors AA and BB.\n",
    "\n",
    "3. Example Calculation\n",
    "\n",
    "Suppose:\n",
    "\n",
    "    Embedding for \"nlp\": [0.1, 0.2, 0.3]\n",
    "\n",
    "    Embedding for \"ai\": [0.2, 0.3, 0.4]\n",
    "\n",
    "Step 1: Dot Product\n",
    "A⋅B=(0.1×0.2)+(0.2×0.3)+(0.3×0.4)=0.02+0.06+0.12=0.20\n",
    "A⋅B=(0.1×0.2)+(0.2×0.3)+(0.3×0.4)=0.02+0.06+0.12=0.20\n",
    "Step 2: Magnitudes\n",
    "∥A∥=0.12+0.22+0.32=0.01+0.04+0.09=0.14≈0.374\n",
    "∥A∥=0.12+0.22+0.32\n",
    "​=0.01+0.04+0.09\n",
    "​=0.14\n",
    "​≈0.374\n",
    "∥B∥=0.22+0.32+0.42=0.04+0.09+0.16=0.29≈0.539\n",
    "∥B∥=0.22+0.32+0.42\n",
    "​=0.04+0.09+0.16\n",
    "​=0.29\n",
    "​≈0.539\n",
    "Step 3: Cosine Similarity\n",
    "cosine similarity=0.200.374×0.539≈0.200.201≈0.995\n",
    "cosine similarity=0.374×0.5390.20​≈0.2010.20​≈0.995\n",
    "\n",
    "    The cosine similarity between \"nlp\" and \"ai\" is approximately 0.995, indicating they are very similar.\n",
    "\n"
   ]
  },
  {
   "cell_type": "code",
   "execution_count": 79,
   "metadata": {},
   "outputs": [
    {
     "data": {
      "text/plain": [
       "-0.037552297"
      ]
     },
     "execution_count": 79,
     "metadata": {},
     "output_type": "execute_result"
    }
   ],
   "source": [
    "skip_gram.wv.similarity(\"nlp\",\"ai\")"
   ]
  },
  {
   "cell_type": "markdown",
   "metadata": {},
   "source": [
    "# index_to_key \n",
    "is a property of the wv object that maps integer indices to the corresponding words in the vocabulary. It is essentially a list or dictionary where the index corresponds to the position of the word in the vocabulary, and the value is the word itself."
   ]
  },
  {
   "cell_type": "code",
   "execution_count": 96,
   "metadata": {},
   "outputs": [
    {
     "data": {
      "text/plain": [
       "['word',\n",
       " 'data',\n",
       " 'vec',\n",
       " 'part',\n",
       " 'fsdf',\n",
       " 'try',\n",
       " 'wordvc',\n",
       " 'learn',\n",
       " 'trying',\n",
       " 'amazing',\n",
       " 'veyr',\n",
       " 'nlp',\n",
       " 'sd',\n",
       " 'sdf',\n",
       " 'f',\n",
       " 'two',\n",
       " 'sdfsfss',\n",
       " 'fsfs',\n",
       " 'cloud',\n",
       " 'ops',\n",
       " 'along',\n",
       " 'stack',\n",
       " 'teach',\n",
       " 'use',\n",
       " 'kumar',\n",
       " 'sudhanshu',\n",
       " 'build',\n",
       " 'tfidf',\n",
       " 'models',\n",
       " 'ai',\n",
       " 'hot',\n",
       " 'one',\n",
       " 'better',\n",
       " 'perform',\n",
       " 'going',\n",
       " 'embeddings',\n",
       " 'used',\n",
       " 'w',\n",
       " 'number',\n",
       " 'phone',\n",
       " 'processing',\n",
       " 'bow',\n",
       " 'language',\n",
       " 'natural',\n",
       " 'preprocessing',\n",
       " 'basically',\n",
       " 'whihc',\n",
       " 'cleanning',\n",
       " 'work',\n",
       " 'also',\n",
       " 'skipgram',\n",
       " 'cbow',\n",
       " 'name']"
      ]
     },
     "execution_count": 96,
     "metadata": {},
     "output_type": "execute_result"
    }
   ],
   "source": [
    "cbow.wv.index_to_key"
   ]
  },
  {
   "cell_type": "code",
   "execution_count": 171,
   "metadata": {},
   "outputs": [
    {
     "name": "stdout",
     "output_type": "stream",
     "text": [
      "{'word': 0, 'data': 1, 'vec': 2, 'part': 3, 'fsdf': 4, 'try': 5, 'wordvc': 6, 'learn': 7, 'trying': 8, 'amazing': 9, 'veyr': 10, 'nlp': 11, 'sd': 12, 'sdf': 13, 'f': 14, 'two': 15, 'sdfsfss': 16, 'fsfs': 17, 'cloud': 18, 'ops': 19, 'along': 20, 'stack': 21, 'teach': 22, 'use': 23, 'kumar': 24, 'sudhanshu': 25, 'build': 26, 'tfidf': 27, 'models': 28, 'ai': 29, 'hot': 30, 'one': 31, 'better': 32, 'perform': 33, 'going': 34, 'embeddings': 35, 'used': 36, 'w': 37, 'number': 38, 'phone': 39, 'processing': 40, 'bow': 41, 'language': 42, 'natural': 43, 'preprocessing': 44, 'basically': 45, 'whihc': 46, 'cleanning': 47, 'work': 48, 'also': 49, 'skipgram': 50, 'cbow': 51, 'name': 52}\n",
      "['word', 'data', 'vec', 'part', 'fsdf', 'try', 'wordvc', 'learn', 'trying', 'amazing', 'veyr', 'nlp', 'sd', 'sdf', 'f', 'two', 'sdfsfss', 'fsfs', 'cloud', 'ops', 'along', 'stack', 'teach', 'use', 'kumar', 'sudhanshu', 'build', 'tfidf', 'models', 'ai', 'hot', 'one', 'better', 'perform', 'going', 'embeddings', 'used', 'w', 'number', 'phone', 'processing', 'bow', 'language', 'natural', 'preprocessing', 'basically', 'whihc', 'cleanning', 'work', 'also', 'skipgram', 'cbow', 'name']\n"
     ]
    }
   ],
   "source": [
    "\n",
    "wv = cbow.wv.key_to_index\n",
    "print(wv)\n",
    "wv = cbow.wv.index_to_key\n",
    "print(wv)\n"
   ]
  },
  {
   "cell_type": "markdown",
   "metadata": {},
   "source": [
    "# Graph"
   ]
  },
  {
   "cell_type": "code",
   "execution_count": 99,
   "metadata": {},
   "outputs": [],
   "source": [
    "from sklearn.manifold import TSNE\n",
    "import numpy as np\n",
    "import matplotlib.pyplot as plt\n"
   ]
  },
  {
   "cell_type": "code",
   "execution_count": 161,
   "metadata": {},
   "outputs": [
    {
     "data": {
      "image/png": "[encoded data removed]",
      "text/plain": [
       "<Figure size 1200x600 with 1 Axes>"
      ]
     },
     "metadata": {},
     "output_type": "display_data"
    }
   ],
   "source": [
    "# Get the vocabulary and corresponding word vectors\n",
    "vocab = list(cbow.wv.index_to_key)\n",
    "word_vectors = cbow.wv.vectors\n",
    "\n",
    "# Convert word vectors to a numpy array\n",
    "x = np.array([word_vectors[cbow.wv.key_to_index[word]] for word in vocab])\n",
    "\n",
    "\n",
    "# Apply t-SNE for dimensionality reduction\n",
    "tsne = TSNE(n_components=2, random_state=42)\n",
    "x_new_embeddings = tsne.fit_transform(x)\n",
    "\n",
    "# Plot the 2D embeddings\n",
    "plt.figure(figsize=(12, 6))\n",
    "plt.scatter(x_new_embeddings[:, 0], x_new_embeddings[:, 1], marker=\"o\")\n",
    "\n",
    "# Annotate the points with the corresponding words\n",
    "for i, word in enumerate(vocab):\n",
    "    plt.annotate(word, (x_new_embeddings[i, 0], x_new_embeddings[i, 1]))\n",
    "\n",
    "plt.title(\"t-SNE Visualization of Word Embeddings\")\n",
    "plt.xlabel(\"t-SNE Dimension 1\")\n",
    "plt.ylabel(\"t-SNE Dimension 2\")\n",
    "plt.show()\n"
   ]
  },
  {
   "cell_type": "markdown",
   "metadata": {},
   "source": [
    "# Named Entity Recognition (NER)"
   ]
  },
  {
   "cell_type": "code",
   "execution_count": null,
   "metadata": {},
   "outputs": [
    {
     "data": {
      "text/plain": [
       "['My',\n",
       " 'name',\n",
       " 'is',\n",
       " 'chetan',\n",
       " 'Fernandis',\n",
       " 'as',\n",
       " 'mentor',\n",
       " 'and',\n",
       " 'developer',\n",
       " 'where',\n",
       " 'I',\n",
       " 'use',\n",
       " 'to',\n",
       " 'work']"
      ]
     },
     "execution_count": 51,
     "metadata": {},
     "output_type": "execute_result"
    }
   ],
   "source": [
    "text = \"My name is chetan Fernandis as mentor and developer where I use to work\"\n",
    "word_tokenize(text)"
   ]
  },
  {
   "cell_type": "code",
   "execution_count": null,
   "metadata": {},
   "outputs": [],
   "source": []
  }
 ],
 "metadata": {
  "kernelspec": {
   "display_name": "Python 3",
   "language": "python",
   "name": "python3"
  },
  "language_info": {
   "codemirror_mode": {
    "name": "ipython",
    "version": 3
   },
   "file_extension": ".py",
   "mimetype": "text/x-python",
   "name": "python",
   "nbconvert_exporter": "python",
   "pygments_lexer": "ipython3",
   "version": "3.11.0"
  }
 },
 "nbformat": 4,
 "nbformat_minor": 2
}
