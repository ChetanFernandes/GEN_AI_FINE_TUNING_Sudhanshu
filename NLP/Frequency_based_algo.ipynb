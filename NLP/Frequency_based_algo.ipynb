{
 "cells": [
  {
   "cell_type": "markdown",
   "id": "1ee31d39",
   "metadata": {},
   "source": [
    "# CountVectorizer, TfidfVectorizer"
   ]
  },
  {
   "cell_type": "code",
   "execution_count": 3,
   "id": "e9240a2f",
   "metadata": {},
   "outputs": [
    {
     "name": "stdout",
     "output_type": "stream",
     "text": [
      "Requirement already satisfied: scikit-learn in g:\\gen ai\\venv\\lib\\site-packages (1.6.1)\n",
      "Requirement already satisfied: numpy>=1.19.5 in g:\\gen ai\\venv\\lib\\site-packages (from scikit-learn) (1.26.4)\n",
      "Requirement already satisfied: scipy>=1.6.0 in g:\\gen ai\\venv\\lib\\site-packages (from scikit-learn) (1.13.1)\n",
      "Requirement already satisfied: joblib>=1.2.0 in g:\\gen ai\\venv\\lib\\site-packages (from scikit-learn) (1.4.2)\n",
      "Requirement already satisfied: threadpoolctl>=3.1.0 in g:\\gen ai\\venv\\lib\\site-packages (from scikit-learn) (3.6.0)\n"
     ]
    }
   ],
   "source": [
    "!pip install scikit-learn"
   ]
  },
  {
   "cell_type": "code",
   "execution_count": 1,
   "id": "98a36978",
   "metadata": {},
   "outputs": [],
   "source": [
    "from sklearn.feature_extraction.text import CountVectorizer, TfidfVectorizer\n",
    "from sklearn.metrics.pairwise import cosine_similarity\n",
    "import numpy as np\n",
    "import pandas as pd\n"
   ]
  },
  {
   "cell_type": "markdown",
   "id": "0b66b5de",
   "metadata": {},
   "source": [
    "# Using CountVectorizer"
   ]
  },
  {
   "cell_type": "code",
   "execution_count": 65,
   "id": "896897ad",
   "metadata": {},
   "outputs": [],
   "source": [
    "corpus = [\n",
    "    'This is the first document',\n",
    "    'ArithmeticError is a built-in exception in Python',\n",
    "    'This document is the second document',\n",
    "    'And this is the third one',\n",
    "    'Is this the first document?',\n",
    "]"
   ]
  },
  {
   "cell_type": "code",
   "execution_count": null,
   "id": "6c95bf66",
   "metadata": {},
   "outputs": [],
   "source": [
    "vectorizer = CountVectorizer"
   ]
  },
  {
   "cell_type": "code",
   "execution_count": null,
   "id": "77e91318",
   "metadata": {},
   "outputs": [
    {
     "name": "stdout",
     "output_type": "stream",
     "text": [
      "['and' 'arithmeticerror' 'built' 'document' 'exception' 'first' 'in' 'is'\n",
      " 'one' 'python' 'second' 'the' 'third' 'this']\n",
      "[[0 0 0 1 0 1 0 1 0 0 0 1 0 1]\n",
      " [0 1 1 0 1 0 2 1 0 1 0 0 0 0]\n",
      " [0 0 0 2 0 0 0 1 0 0 1 1 0 1]\n",
      " [1 0 0 0 0 0 0 1 1 0 0 1 1 1]\n",
      " [0 0 0 1 0 1 0 1 0 0 0 1 0 1]]\n"
     ]
    }
   ],
   "source": [
    "x = vectorizer.fit_transform(corpus)\n",
    "print(vectorizer.get_feature_names_out())\n",
    "print(x.toarray()) "
   ]
  },
  {
   "cell_type": "code",
   "execution_count": 17,
   "id": "9edb1699",
   "metadata": {},
   "outputs": [
    {
     "name": "stdout",
     "output_type": "stream",
     "text": [
      "(5, 14)\n",
      "14\n"
     ]
    }
   ],
   "source": [
    "print(x.toarray().shape) \n",
    "print(len(vectorizer.get_feature_names_out()))"
   ]
  },
  {
   "cell_type": "code",
   "execution_count": 15,
   "id": "7a07cdef",
   "metadata": {},
   "outputs": [
    {
     "name": "stdout",
     "output_type": "stream",
     "text": [
      "   and  arithmeticerror  built  document  exception  first  in  is  one  \\\n",
      "0    0                0      0         1          0      1   0   1    0   \n",
      "1    0                1      1         0          1      0   2   1    0   \n",
      "2    0                0      0         2          0      0   0   1    0   \n",
      "3    1                0      0         0          0      0   0   1    1   \n",
      "4    0                0      0         1          0      1   0   1    0   \n",
      "\n",
      "   python  second  the  third  this  \n",
      "0       0       0    1      0     1  \n",
      "1       1       0    0      0     0  \n",
      "2       0       1    1      0     1  \n",
      "3       0       0    1      1     1  \n",
      "4       0       0    1      0     1  \n"
     ]
    }
   ],
   "source": [
    "df = pd.DataFrame(x.toarray(), columns=vectorizer.get_feature_names_out())\n",
    "print(df)"
   ]
  },
  {
   "cell_type": "markdown",
   "id": "e1bee2b1",
   "metadata": {},
   "source": [
    "# Using TfidfVectorizer"
   ]
  },
  {
   "cell_type": "code",
   "execution_count": 66,
   "id": "c54885fa",
   "metadata": {},
   "outputs": [],
   "source": [
    "vectorize = TfidfVectorizer()"
   ]
  },
  {
   "cell_type": "code",
   "execution_count": 67,
   "id": "a7487e71",
   "metadata": {},
   "outputs": [
    {
     "name": "stdout",
     "output_type": "stream",
     "text": [
      "['and' 'arithmeticerror' 'built' 'document' 'exception' 'first' 'in' 'is'\n",
      " 'one' 'python' 'second' 'the' 'third' 'this']\n",
      "  (0, 13)\t0.4022840626476948\n",
      "  (0, 7)\t0.3402492835693104\n",
      "  (0, 11)\t0.4022840626476948\n",
      "  (0, 5)\t0.5760921151629192\n",
      "  (0, 3)\t0.4782084961154663\n",
      "  (1, 7)\t0.1661290286861683\n",
      "  (1, 1)\t0.34864042110528976\n",
      "  (1, 2)\t0.34864042110528976\n",
      "  (1, 6)\t0.6972808422105795\n",
      "  (1, 4)\t0.34864042110528976\n",
      "  (1, 9)\t0.34864042110528976\n",
      "  (2, 13)\t0.2946493799843241\n",
      "  (2, 7)\t0.24921255836974746\n",
      "  (2, 11)\t0.2946493799843241\n",
      "  (2, 3)\t0.7005191105820987\n",
      "  (2, 10)\t0.5230005374851706\n",
      "  (3, 13)\t0.2866852129249319\n",
      "  (3, 7)\t0.24247651688117958\n",
      "  (3, 11)\t0.2866852129249319\n",
      "  (3, 0)\t0.5088641980402838\n",
      "  (3, 12)\t0.5088641980402838\n",
      "  (3, 8)\t0.5088641980402838\n",
      "  (4, 13)\t0.4022840626476948\n",
      "  (4, 7)\t0.3402492835693104\n",
      "  (4, 11)\t0.4022840626476948\n",
      "  (4, 5)\t0.5760921151629192\n",
      "  (4, 3)\t0.4782084961154663\n"
     ]
    }
   ],
   "source": [
    "y = vectorize.fit_transform(corpus)\n",
    "print(vectorize.get_feature_names_out())\n",
    "print(y)"
   ]
  },
  {
   "cell_type": "code",
   "execution_count": 68,
   "id": "ae672d73",
   "metadata": {},
   "outputs": [
    {
     "name": "stdout",
     "output_type": "stream",
     "text": [
      "(5, 14)\n",
      "14\n"
     ]
    }
   ],
   "source": [
    "print(y.toarray().shape)\n",
    "print(len(vectorize.get_feature_names_out()))"
   ]
  },
  {
   "cell_type": "code",
   "execution_count": 69,
   "id": "4bddf490",
   "metadata": {},
   "outputs": [
    {
     "name": "stdout",
     "output_type": "stream",
     "text": [
      "        and  arithmeticerror    built  document  exception     first  \\\n",
      "0  0.000000          0.00000  0.00000  0.478208    0.00000  0.576092   \n",
      "1  0.000000          0.34864  0.34864  0.000000    0.34864  0.000000   \n",
      "2  0.000000          0.00000  0.00000  0.700519    0.00000  0.000000   \n",
      "3  0.508864          0.00000  0.00000  0.000000    0.00000  0.000000   \n",
      "4  0.000000          0.00000  0.00000  0.478208    0.00000  0.576092   \n",
      "\n",
      "         in        is       one   python    second       the     third  \\\n",
      "0  0.000000  0.340249  0.000000  0.00000  0.000000  0.402284  0.000000   \n",
      "1  0.697281  0.166129  0.000000  0.34864  0.000000  0.000000  0.000000   \n",
      "2  0.000000  0.249213  0.000000  0.00000  0.523001  0.294649  0.000000   \n",
      "3  0.000000  0.242477  0.508864  0.00000  0.000000  0.286685  0.508864   \n",
      "4  0.000000  0.340249  0.000000  0.00000  0.000000  0.402284  0.000000   \n",
      "\n",
      "       this  \n",
      "0  0.402284  \n",
      "1  0.000000  \n",
      "2  0.294649  \n",
      "3  0.286685  \n",
      "4  0.402284  \n"
     ]
    }
   ],
   "source": [
    "y = pd.DataFrame(y.toarray(), columns=vectorize.get_feature_names_out())\n",
    "print(y)"
   ]
  },
  {
   "cell_type": "markdown",
   "id": "daeeffe2",
   "metadata": {},
   "source": [
    "# TF(t,d)= Number of times term t appears in document d / Total number of terms in document d\n",
    " # IDF(t)=log( Total number of documents N / Number of documents containing term t)\n",
    "​\n",
    " "
   ]
  },
  {
   "cell_type": "code",
   "execution_count": null,
   "id": "4269de72",
   "metadata": {},
   "outputs": [
    {
     "name": "stdout",
     "output_type": "stream",
     "text": [
      "['mkdir -p ~/projects : -\\n', '\\n', 'Copy your Windows project to Linux:\\n', 'cp -rv /mnt/h/POC_env_linx ~/projects/\\n', '\\n', 'ls -l ~/projects/POC_env_linx\\n', '\\n', 'ls -la ~/projects/POC_env_linx (hidden files)\\n', '\\n', '\\n', 'du -sh ~/projects/POC_env_linx  # Show total size\\n', '\\n', 'cp -r ~/projects/POC_env_linx /mnt/h/POC_env_linx_backup\\n', '\\n', '\\n', '1. mAP50 (mAP@0.50)\\n', '\\n', '    Definition:\\n', '\\n', '        mAP50 calculates the mean Average Precision at an IoU (Intersection over Union) threshold of 0.50.\\n', '\\n', '        This means a predicted bounding box is considered a correct detection if it overlaps with the ground truth box by at least 50%.\\n', '\\n', '    When to Use:\\n', '\\n', '        A less strict metric, useful for general object detection where precise localization isn’t critical.\\n', '\\n', '        Often higher than mAP50-95 because it tolerates imperfect bounding boxes.\\n', '\\n', '    Example:\\n', '\\n', '        If your model has mAP50 = 0.85, it means 85% of detections are correct at IoU ≥ 50%.\\n', '\\n', '2. mAP50-95 (mAP@0.50:0.95)\\n', '\\n', '    Definition:\\n', '\\n', '        mAP50-95 averages the mAP across multiple IoU thresholds (from 0.50 to 0.95, in 0.05 increments).\\n', '\\n', '        Evaluates performance at 10 different IoU levels (0.50, 0.55, ..., 0.95).\\n', '\\n', '    When to Use:\\n', '\\n', '        A stricter metric, important for applications needing precise localization (e.g., medical imaging, robotics).\\n', '\\n', '        Typically lower than mAP50 because it penalizes slightly misaligned boxes.\\n', '\\n', '    Example:\\n', '\\n', '        If your model has mAP50-95 = 0.60, it means it performs well across varying levels of detection precision.\\n', '\\n', 'Key Differences\\n', 'Metric\\tIoU Threshold\\tStrictness\\tUse Case\\n', 'mAP50\\t0.50 (single threshold)\\tLenient\\tGeneral-purpose detection\\n', 'mAP50-95\\t0.50 to 0.95 (10 thresholds)\\tStrict\\tHigh-precision applications\\n', 'Why Are Both Used?\\n', '\\n', '    mAP50 gives a quick performance estimate (easier to optimize).\\n', '\\n', '    mAP50-95 ensures robustness across different localization accuracies.']\n"
     ]
    }
   ],
   "source": [
    "with open(r\"G:\\GEN AI\\NLP\\requirements.txt\", \"r\", encoding=\"utf-8\") as file:\n",
    "    text = file.readlines() # List of lines (documents) Used when document is not arranged in lines\n",
    "print(text)"
   ]
  },
  {
   "cell_type": "code",
   "execution_count": 71,
   "id": "6f365bf4",
   "metadata": {},
   "outputs": [
    {
     "data": {
      "text/plain": [
       "['mkdir -p ~/projects : -\\n',\n",
       " '\\n',\n",
       " 'Copy your Windows project to Linux:\\n',\n",
       " 'cp -rv /mnt/h/POC_env_linx ~/projects/\\n',\n",
       " '\\n',\n",
       " 'ls -l ~/projects/POC_env_linx\\n',\n",
       " '\\n',\n",
       " 'ls -la ~/projects/POC_env_linx (hidden files)\\n',\n",
       " '\\n',\n",
       " '\\n',\n",
       " 'du -sh ~/projects/POC_env_linx  # Show total size\\n',\n",
       " '\\n',\n",
       " 'cp -r ~/projects/POC_env_linx /mnt/h/POC_env_linx_backup\\n',\n",
       " '\\n',\n",
       " '\\n',\n",
       " '1. mAP50 (mAP@0.50)\\n',\n",
       " '\\n',\n",
       " '    Definition:\\n',\n",
       " '\\n',\n",
       " '        mAP50 calculates the mean Average Precision at an IoU (Intersection over Union) threshold of 0.50.\\n',\n",
       " '\\n',\n",
       " '        This means a predicted bounding box is considered a correct detection if it overlaps with the ground truth box by at least 50%.\\n',\n",
       " '\\n',\n",
       " '    When to Use:\\n',\n",
       " '\\n',\n",
       " '        A less strict metric, useful for general object detection where precise localization isn’t critical.\\n',\n",
       " '\\n',\n",
       " '        Often higher than mAP50-95 because it tolerates imperfect bounding boxes.\\n',\n",
       " '\\n',\n",
       " '    Example:\\n',\n",
       " '\\n',\n",
       " '        If your model has mAP50 = 0.85, it means 85% of detections are correct at IoU ≥ 50%.\\n',\n",
       " '\\n',\n",
       " '2. mAP50-95 (mAP@0.50:0.95)\\n',\n",
       " '\\n',\n",
       " '    Definition:\\n',\n",
       " '\\n',\n",
       " '        mAP50-95 averages the mAP across multiple IoU thresholds (from 0.50 to 0.95, in 0.05 increments).\\n',\n",
       " '\\n',\n",
       " '        Evaluates performance at 10 different IoU levels (0.50, 0.55, ..., 0.95).\\n',\n",
       " '\\n',\n",
       " '    When to Use:\\n',\n",
       " '\\n',\n",
       " '        A stricter metric, important for applications needing precise localization (e.g., medical imaging, robotics).\\n',\n",
       " '\\n',\n",
       " '        Typically lower than mAP50 because it penalizes slightly misaligned boxes.\\n',\n",
       " '\\n',\n",
       " '    Example:\\n',\n",
       " '\\n',\n",
       " '        If your model has mAP50-95 = 0.60, it means it performs well across varying levels of detection precision.\\n',\n",
       " '\\n',\n",
       " 'Key Differences\\n',\n",
       " 'Metric\\tIoU Threshold\\tStrictness\\tUse Case\\n',\n",
       " 'mAP50\\t0.50 (single threshold)\\tLenient\\tGeneral-purpose detection\\n',\n",
       " 'mAP50-95\\t0.50 to 0.95 (10 thresholds)\\tStrict\\tHigh-precision applications\\n',\n",
       " 'Why Are Both Used?\\n',\n",
       " '\\n',\n",
       " '    mAP50 gives a quick performance estimate (easier to optimize).\\n',\n",
       " '\\n',\n",
       " '    mAP50-95 ensures robustness across different localization accuracies.']"
      ]
     },
     "execution_count": 71,
     "metadata": {},
     "output_type": "execute_result"
    }
   ],
   "source": [
    "text"
   ]
  },
  {
   "cell_type": "markdown",
   "id": "cb48e7ef",
   "metadata": {},
   "source": [
    "Calculation of Cosine and Euclidean"
   ]
  },
  {
   "cell_type": "code",
   "execution_count": 72,
   "id": "ad0eda52",
   "metadata": {},
   "outputs": [
    {
     "name": "stdout",
     "output_type": "stream",
     "text": [
      "0.9981908926857267\n"
     ]
    }
   ],
   "source": [
    "import numpy as np\n",
    "\n",
    "def cosine_similarity(a, b):\n",
    "    dot_product = np.dot(a, b)\n",
    "    norm_a = np.linalg.norm(a)\n",
    "    norm_b = np.linalg.norm(b)\n",
    "    return dot_product / (norm_a * norm_b)\n",
    "\n",
    "A = np.array([0.4, 0.5, 0.6])\n",
    "B = np.array([0.7, 0.8, 0.9])\n",
    "\n",
    "print(cosine_similarity(A, B))  # Output: ~0.999 (≈1.0)"
   ]
  },
  {
   "cell_type": "code",
   "execution_count": 73,
   "id": "ca2975d4",
   "metadata": {},
   "outputs": [],
   "source": [
    "import numpy as np\n",
    "\n",
    "A = np.array([0.4, 0.5, 0.6])\n",
    "B = np.array([0.7, 0.8, 0.9])\n",
    "\n",
    "# Euclidean Distance\n",
    "euclidean = np.linalg.norm(A - B)  # Output: ~0.52\n",
    "\n",
    "# Cosine Similarity\n",
    "cosine = np.dot(A, B) / (np.linalg.norm(A) * np.linalg.norm(B))  # Output: ~1.0"
   ]
  },
  {
   "cell_type": "code",
   "execution_count": null,
   "id": "b8b01fd3",
   "metadata": {},
   "outputs": [],
   "source": []
  },
  {
   "cell_type": "code",
   "execution_count": null,
   "id": "1dc396db",
   "metadata": {},
   "outputs": [],
   "source": []
  },
  {
   "cell_type": "code",
   "execution_count": null,
   "id": "a50773ef",
   "metadata": {},
   "outputs": [],
   "source": [
    "\n",
    "\n",
    "\n"
   ]
  }
 ],
 "metadata": {
  "kernelspec": {
   "display_name": "Python 3",
   "language": "python",
   "name": "python3"
  },
  "language_info": {
   "codemirror_mode": {
    "name": "ipython",
    "version": 3
   },
   "file_extension": ".py",
   "mimetype": "text/x-python",
   "name": "python",
   "nbconvert_exporter": "python",
   "pygments_lexer": "ipython3",
   "version": "3.11.0"
  }
 },
 "nbformat": 4,
 "nbformat_minor": 5
}
